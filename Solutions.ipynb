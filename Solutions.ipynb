{
 "cells": [
  {
   "cell_type": "markdown",
   "id": "b30f8bb8",
   "metadata": {},
   "source": [
    "# Lab SQL 9\n",
    "In this lab we will find the customers who were active in consecutive months of May and June. Follow the steps to complete the analysis.\n"
   ]
  },
  {
   "cell_type": "markdown",
   "id": "a072551e",
   "metadata": {},
   "source": [
    "## Create a table `rentals_may` to store the data from rental table with information for the month of May."
   ]
  },
  {
   "cell_type": "code",
   "execution_count": null,
   "id": "db60a00e",
   "metadata": {},
   "outputs": [],
   "source": [
    "DROP TABLE IF EXISTS rentals_may;\n",
    "\n",
    "CREATE TABLE rentals_may LIKE rental;"
   ]
  },
  {
   "cell_type": "markdown",
   "id": "4d12ebd2",
   "metadata": {},
   "source": [
    "## Insert values in the table `rentals_may` using the table rental, filtering values only for the month of May.\n",
    " "
   ]
  },
  {
   "cell_type": "code",
   "execution_count": null,
   "id": "d6d66dc1",
   "metadata": {},
   "outputs": [],
   "source": [
    "INSERT INTO rentals_may\n",
    "SELECT * FROM rental\n",
    "WHERE MONTH(rental_date) = 05;"
   ]
  },
  {
   "cell_type": "markdown",
   "id": "ce9a6281",
   "metadata": {},
   "source": [
    "## Create a table `rentals_june` to store the data from rental table with information for the month of June.\n"
   ]
  },
  {
   "cell_type": "code",
   "execution_count": null,
   "id": "ccc8b533",
   "metadata": {},
   "outputs": [],
   "source": [
    "DROP TABLE IF EXISTS rentals_june;\n",
    "\n",
    "CREATE TABLE rentals_june LIKE rental;"
   ]
  },
  {
   "cell_type": "markdown",
   "id": "eaed7c1e",
   "metadata": {},
   "source": [
    "## Insert values in the table `rentals_june` using the table rental, filtering values only for the month of June.\n",
    " "
   ]
  },
  {
   "cell_type": "code",
   "execution_count": null,
   "id": "75bd61e4",
   "metadata": {},
   "outputs": [],
   "source": [
    "INSERT INTO rentals_june\n",
    "SELECT * FROM rental\n",
    "WHERE MONTH(rental_date) = 06;"
   ]
  },
  {
   "cell_type": "markdown",
   "id": "a43ae650",
   "metadata": {},
   "source": [
    "## Check the number of rentals for each customer for May.\n"
   ]
  },
  {
   "cell_type": "code",
   "execution_count": null,
   "id": "8ad1d9c4",
   "metadata": {},
   "outputs": [],
   "source": [
    "SELECT customer_id, COUNT(rental_id) AS may_count\n",
    "FROM rentals_may\n",
    "GROUP BY customer_id;"
   ]
  },
  {
   "cell_type": "markdown",
   "id": "59587fe4",
   "metadata": {},
   "source": [
    "## Check the number of rentals for each customer for June.\n",
    " "
   ]
  },
  {
   "cell_type": "code",
   "execution_count": null,
   "id": "2a48a94f",
   "metadata": {},
   "outputs": [],
   "source": [
    "SELECT customer_id, COUNT(rental_id) AS june_count\n",
    "FROM rentals_june\n",
    "GROUP BY customer_id;"
   ]
  },
  {
   "cell_type": "markdown",
   "id": "ecc7ad09",
   "metadata": {},
   "source": [
    "## Create a Python connection with SQL database and retrieve the results of the last two queries (also mentioned below) as dataframes:\n",
    "\n",
    "  - Check the number of rentals for each customer for May\n",
    "  - Check the number of rentals for each customer for June\n",
    "\n",
    "    **Hint**: You can store the results from the two queries in two separate dataframes.\n",
    " "
   ]
  },
  {
   "cell_type": "code",
   "execution_count": null,
   "id": "0e42f151-b78b-4ad4-ab04-77141d648ae0",
   "metadata": {},
   "outputs": [],
   "source": [
    "import pymysql\n",
    "from sqlalchemy import create_engine\n",
    "import pandas as pd\n",
    "import getpass  # to get the password without showing the input\n",
    "password = getpass.getpass()"
   ]
  },
  {
   "cell_type": "code",
   "execution_count": null,
   "id": "d970aaf5-2638-44fa-a74f-434778b34756",
   "metadata": {},
   "outputs": [],
   "source": [
    "connection_string = 'mysql+pymysql://root:' + password + '@localhost/sakila'\n",
    "engine = create_engine(connection_string)"
   ]
  },
  {
   "cell_type": "code",
   "execution_count": null,
   "id": "9ede5084",
   "metadata": {},
   "outputs": [],
   "source": [
    "rentalcount_may = pd.read_sql_query(\n",
    "    '''\n",
    "    SELECT customer_id, COUNT(rental_id) AS may_count\n",
    "    FROM rentals_may\n",
    "    GROUP BY customer_id;\n",
    "    ''', engine)\n",
    "    \n",
    "rentalcount_june = pd.read_sql_query(\n",
    "    '''\n",
    "    SELECT customer_id, COUNT(rental_id) AS june_count\n",
    "    FROM rentals_june\n",
    "    GROUP BY customer_id;\n",
    "    ''', engine)"
   ]
  },
  {
   "cell_type": "markdown",
   "id": "44c79e39",
   "metadata": {},
   "source": [
    "## Write a function that checks if customer borrowed more or less films in the month of June as compared to May.\n",
    " \n",
    " **Hint**: For this part, you can create a join between the two dataframes created before, using the merge function available for pandas dataframes. Here is a link to the documentation for the [merge function](https://pandas.pydata.org/pandas-docs/stable/reference/api/pandas.DataFrame.merge.html)."
   ]
  },
  {
   "cell_type": "code",
   "execution_count": null,
   "id": "d7cb821d-d963-4237-af90-9d200c997602",
   "metadata": {},
   "outputs": [],
   "source": [
    "rentalcount_mayjune = pd.merge(rentalcount_may, rentalcount_june, how='outer')\n",
    "rentalcount_mayjune.head()"
   ]
  },
  {
   "cell_type": "code",
   "execution_count": null,
   "id": "12038b40-e424-49a5-8c18-56f07a564294",
   "metadata": {},
   "outputs": [],
   "source": [
    "def may_vs_june(id): \n",
    "    if (rentalcount_mayjune['customer_id'] == id).any() == False:\n",
    "        print('There is no customer with this id.')\n",
    "    elif (rentalcount_mayjune['customer_id'] == id).any() == True:\n",
    "        for row in range(len(rentalcount_mayjune)):\n",
    "            if rentalcount_mayjune['customer_id'][row] != id:\n",
    "                pass\n",
    "            elif rentalcount_mayjune['customer_id'][row] == id:\n",
    "                print('Customer', id, 'rented', round(rentalcount_mayjune['may_count'][row]), 'films in May.')\n",
    "                print('Customer', id, 'rented', round(rentalcount_mayjune['june_count'][row]), 'films in June.')\n",
    "                if rentalcount_mayjune['may_count'][row] > rentalcount_mayjune['june_count'][row]:\n",
    "                    print('Customer', id, 'rented more films in May than in June.')\n",
    "                elif rentalcount_mayjune['may_count'][row] < rentalcount_mayjune['june_count'][row]:\n",
    "                    print('Customer', id, 'rented more films in June than in May.')\n",
    "                else:\n",
    "                    'Customer', id, 'rented the same amount of films in May and in June.'\n",
    "    return id "
   ]
  },
  {
   "cell_type": "code",
   "execution_count": null,
   "id": "fc28c6a9-eacc-4efe-b117-1ebbb3d1401e",
   "metadata": {},
   "outputs": [],
   "source": [
    "may_vs_june(67)"
   ]
  },
  {
   "cell_type": "code",
   "execution_count": null,
   "id": "27e1c39b-8daf-4d03-b783-24b359b7aaf6",
   "metadata": {},
   "outputs": [],
   "source": []
  }
 ],
 "metadata": {
  "kernelspec": {
   "display_name": "Python3Brew",
   "language": "python",
   "name": "python3brew"
  },
  "language_info": {
   "codemirror_mode": {
    "name": "ipython",
    "version": 3
   },
   "file_extension": ".py",
   "mimetype": "text/x-python",
   "name": "python",
   "nbconvert_exporter": "python",
   "pygments_lexer": "ipython3",
   "version": "3.9.4"
  },
  "toc": {
   "base_numbering": 1,
   "nav_menu": {},
   "number_sections": true,
   "sideBar": true,
   "skip_h1_title": false,
   "title_cell": "Table of Contents",
   "title_sidebar": "Contents",
   "toc_cell": false,
   "toc_position": {},
   "toc_section_display": true,
   "toc_window_display": false
  }
 },
 "nbformat": 4,
 "nbformat_minor": 5
}
