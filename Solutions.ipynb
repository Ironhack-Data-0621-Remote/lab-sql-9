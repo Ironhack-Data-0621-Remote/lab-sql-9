{
 "cells": [
  {
   "cell_type": "markdown",
   "id": "b30f8bb8",
   "metadata": {},
   "source": [
    "# Lab SQL 9\n",
    "In this lab we will find the customers who were active in consecutive months of May and June. Follow the steps to complete the analysis.\n"
   ]
  },
  {
   "cell_type": "markdown",
   "id": "a072551e",
   "metadata": {},
   "source": [
    "## Create a table `rentals_may` to store the data from rental table with information for the month of May."
   ]
  },
  {
   "cell_type": "code",
   "execution_count": 58,
   "id": "db60a00e",
   "metadata": {},
   "outputs": [
    {
     "name": "stdout",
     "output_type": "stream",
     "text": [
      "········\n"
     ]
    }
   ],
   "source": [
    "import pymysql\n",
    "from sqlalchemy import create_engine\n",
    "import pandas as pd\n",
    "import getpass  # to get the password without showing the input / password of sql workbench -- which is for most of ppl 'admin'\n",
    "password = getpass.getpass()"
   ]
  },
  {
   "cell_type": "code",
   "execution_count": 59,
   "id": "495d0bdc",
   "metadata": {},
   "outputs": [],
   "source": [
    "connection_string = 'mysql+pymysql://root:' + password + '@localhost/sakila'\n",
    "engine = create_engine(connection_string)"
   ]
  },
  {
   "cell_type": "code",
   "execution_count": 4,
   "id": "ecac79e9",
   "metadata": {},
   "outputs": [
    {
     "data": {
      "text/plain": [
       "<sqlalchemy.engine.cursor.LegacyCursorResult at 0x7ff4b8f76e50>"
      ]
     },
     "execution_count": 4,
     "metadata": {},
     "output_type": "execute_result"
    }
   ],
   "source": [
    "engine.execute(\"CREATE TABLE rentals_may LIKE rental;\")"
   ]
  },
  {
   "cell_type": "markdown",
   "id": "4d12ebd2",
   "metadata": {},
   "source": [
    "## Insert values in the table `rentals_may` using the table rental, filtering values only for the month of May.\n",
    " "
   ]
  },
  {
   "cell_type": "code",
   "execution_count": 5,
   "id": "d6d66dc1",
   "metadata": {},
   "outputs": [
    {
     "data": {
      "text/plain": [
       "<sqlalchemy.engine.cursor.LegacyCursorResult at 0x7ff4b9b3e100>"
      ]
     },
     "execution_count": 5,
     "metadata": {},
     "output_type": "execute_result"
    }
   ],
   "source": [
    "engine.execute('''\n",
    "               INSERT INTO rentals_may\n",
    "               SELECT * FROM rental\n",
    "               WHERE MONTH(rental_date) = 5;\n",
    "               ''')"
   ]
  },
  {
   "cell_type": "markdown",
   "id": "ce9a6281",
   "metadata": {},
   "source": [
    "## Create a table `rentals_june` to store the data from rental table with information for the month of June.\n"
   ]
  },
  {
   "cell_type": "code",
   "execution_count": 10,
   "id": "ccc8b533",
   "metadata": {},
   "outputs": [
    {
     "data": {
      "text/plain": [
       "<sqlalchemy.engine.cursor.LegacyCursorResult at 0x7ff4c82c1160>"
      ]
     },
     "execution_count": 10,
     "metadata": {},
     "output_type": "execute_result"
    }
   ],
   "source": [
    "engine.execute(\"CREATE TABLE rentals_june LIKE rental;\")"
   ]
  },
  {
   "cell_type": "markdown",
   "id": "eaed7c1e",
   "metadata": {},
   "source": [
    "## Insert values in the table `rentals_june` using the table rental, filtering values only for the month of June.\n",
    " "
   ]
  },
  {
   "cell_type": "code",
   "execution_count": 11,
   "id": "e8d89032",
   "metadata": {},
   "outputs": [
    {
     "data": {
      "text/plain": [
       "<sqlalchemy.engine.cursor.LegacyCursorResult at 0x7ff4b9a64880>"
      ]
     },
     "execution_count": 11,
     "metadata": {},
     "output_type": "execute_result"
    }
   ],
   "source": [
    "engine.execute('''\n",
    "               INSERT INTO rentals_june\n",
    "               SELECT * FROM rental\n",
    "               WHERE MONTH(rental_date) = 6;\n",
    "               ''')"
   ]
  },
  {
   "cell_type": "markdown",
   "id": "a43ae650",
   "metadata": {},
   "source": [
    "## Check the number of rentals for each customer for May.\n"
   ]
  },
  {
   "cell_type": "code",
   "execution_count": null,
   "id": "a8002c78",
   "metadata": {},
   "outputs": [],
   "source": [
    "# Operation on SQL side\n",
    "\n",
    "# INSERT INTO rentals_may\n",
    "# SELECT * FROM rental\n",
    "# WHERE MONTH(rental_date) = 5;"
   ]
  },
  {
   "cell_type": "markdown",
   "id": "59587fe4",
   "metadata": {},
   "source": [
    "## Check the number of rentals for each customer for June.\n",
    " "
   ]
  },
  {
   "cell_type": "code",
   "execution_count": null,
   "id": "2a48a94f",
   "metadata": {},
   "outputs": [],
   "source": [
    "# Operation on SQL side\n",
    "\n",
    "# INSERT INTO rentals_june\n",
    "# SELECT * FROM rental\n",
    "# WHERE MONTH(rental_date) = 6;"
   ]
  },
  {
   "cell_type": "markdown",
   "id": "ecc7ad09",
   "metadata": {},
   "source": [
    "## Create a Python connection with SQL database and retrieve the results of the last two queries (also mentioned below) as dataframes:\n",
    "\n",
    "  - Check the number of rentals for each customer for May\n",
    "  - Check the number of rentals for each customer for June\n",
    "\n",
    "    **Hint**: You can store the results from the two queries in two separate dataframes.\n",
    " "
   ]
  },
  {
   "cell_type": "code",
   "execution_count": 13,
   "id": "9ede5084",
   "metadata": {},
   "outputs": [
    {
     "data": {
      "text/plain": [
       "(1156, 7)"
      ]
     },
     "execution_count": 13,
     "metadata": {},
     "output_type": "execute_result"
    }
   ],
   "source": [
    "data_may = pd.read_sql_query('SELECT * FROM rentals_may', engine)\n",
    "data_may.shape"
   ]
  },
  {
   "cell_type": "code",
   "execution_count": 14,
   "id": "2647bcca",
   "metadata": {},
   "outputs": [
    {
     "data": {
      "text/plain": [
       "Index(['rental_id', 'rental_date', 'inventory_id', 'customer_id',\n",
       "       'return_date', 'staff_id', 'last_update'],\n",
       "      dtype='object')"
      ]
     },
     "execution_count": 14,
     "metadata": {},
     "output_type": "execute_result"
    }
   ],
   "source": [
    "data_may.columns"
   ]
  },
  {
   "cell_type": "code",
   "execution_count": 15,
   "id": "5658e6ff",
   "metadata": {},
   "outputs": [],
   "source": [
    "# just for practice getting data by execute operation \n",
    "result = engine.execute('SELECT * FROM rentals_june') \n",
    "rows = [row for row in result]\n",
    "data_june = pd.DataFrame(rows)\n",
    "data_june.columns = data_may.columns"
   ]
  },
  {
   "cell_type": "code",
   "execution_count": 21,
   "id": "2b7bcb7f",
   "metadata": {},
   "outputs": [
    {
     "data": {
      "text/html": [
       "<div>\n",
       "<style scoped>\n",
       "    .dataframe tbody tr th:only-of-type {\n",
       "        vertical-align: middle;\n",
       "    }\n",
       "\n",
       "    .dataframe tbody tr th {\n",
       "        vertical-align: top;\n",
       "    }\n",
       "\n",
       "    .dataframe thead th {\n",
       "        text-align: right;\n",
       "    }\n",
       "</style>\n",
       "<table border=\"1\" class=\"dataframe\">\n",
       "  <thead>\n",
       "    <tr style=\"text-align: right;\">\n",
       "      <th></th>\n",
       "      <th>rental_id</th>\n",
       "      <th>rental_date</th>\n",
       "      <th>inventory_id</th>\n",
       "      <th>customer_id</th>\n",
       "      <th>return_date</th>\n",
       "      <th>staff_id</th>\n",
       "      <th>last_update</th>\n",
       "    </tr>\n",
       "  </thead>\n",
       "  <tbody>\n",
       "    <tr>\n",
       "      <th>0</th>\n",
       "      <td>1158</td>\n",
       "      <td>2005-06-14 22:53:33</td>\n",
       "      <td>1632</td>\n",
       "      <td>416</td>\n",
       "      <td>2005-06-18 21:37:33</td>\n",
       "      <td>2</td>\n",
       "      <td>2006-02-15 21:30:53</td>\n",
       "    </tr>\n",
       "    <tr>\n",
       "      <th>1</th>\n",
       "      <td>1159</td>\n",
       "      <td>2005-06-14 22:55:13</td>\n",
       "      <td>4395</td>\n",
       "      <td>516</td>\n",
       "      <td>2005-06-17 02:11:13</td>\n",
       "      <td>1</td>\n",
       "      <td>2006-02-15 21:30:53</td>\n",
       "    </tr>\n",
       "    <tr>\n",
       "      <th>2</th>\n",
       "      <td>1160</td>\n",
       "      <td>2005-06-14 23:00:34</td>\n",
       "      <td>2795</td>\n",
       "      <td>239</td>\n",
       "      <td>2005-06-18 01:58:34</td>\n",
       "      <td>2</td>\n",
       "      <td>2006-02-15 21:30:53</td>\n",
       "    </tr>\n",
       "    <tr>\n",
       "      <th>3</th>\n",
       "      <td>1161</td>\n",
       "      <td>2005-06-14 23:07:08</td>\n",
       "      <td>1690</td>\n",
       "      <td>285</td>\n",
       "      <td>2005-06-21 17:12:08</td>\n",
       "      <td>1</td>\n",
       "      <td>2006-02-15 21:30:53</td>\n",
       "    </tr>\n",
       "    <tr>\n",
       "      <th>4</th>\n",
       "      <td>1162</td>\n",
       "      <td>2005-06-14 23:09:38</td>\n",
       "      <td>987</td>\n",
       "      <td>310</td>\n",
       "      <td>2005-06-23 22:00:38</td>\n",
       "      <td>1</td>\n",
       "      <td>2006-02-15 21:30:53</td>\n",
       "    </tr>\n",
       "  </tbody>\n",
       "</table>\n",
       "</div>"
      ],
      "text/plain": [
       "   rental_id         rental_date  inventory_id  customer_id  \\\n",
       "0       1158 2005-06-14 22:53:33          1632          416   \n",
       "1       1159 2005-06-14 22:55:13          4395          516   \n",
       "2       1160 2005-06-14 23:00:34          2795          239   \n",
       "3       1161 2005-06-14 23:07:08          1690          285   \n",
       "4       1162 2005-06-14 23:09:38           987          310   \n",
       "\n",
       "          return_date  staff_id         last_update  \n",
       "0 2005-06-18 21:37:33         2 2006-02-15 21:30:53  \n",
       "1 2005-06-17 02:11:13         1 2006-02-15 21:30:53  \n",
       "2 2005-06-18 01:58:34         2 2006-02-15 21:30:53  \n",
       "3 2005-06-21 17:12:08         1 2006-02-15 21:30:53  \n",
       "4 2005-06-23 22:00:38         1 2006-02-15 21:30:53  "
      ]
     },
     "execution_count": 21,
     "metadata": {},
     "output_type": "execute_result"
    }
   ],
   "source": [
    "data_june.head()"
   ]
  },
  {
   "cell_type": "code",
   "execution_count": 18,
   "id": "338d8dfb",
   "metadata": {},
   "outputs": [
    {
     "data": {
      "text/plain": [
       "rental_id                int64\n",
       "rental_date     datetime64[ns]\n",
       "inventory_id             int64\n",
       "customer_id              int64\n",
       "return_date     datetime64[ns]\n",
       "staff_id                 int64\n",
       "last_update     datetime64[ns]\n",
       "dtype: object"
      ]
     },
     "execution_count": 18,
     "metadata": {},
     "output_type": "execute_result"
    }
   ],
   "source": [
    "data_june.dtypes"
   ]
  },
  {
   "cell_type": "markdown",
   "id": "44c79e39",
   "metadata": {},
   "source": [
    "## Write a function that checks if customer borrowed more or less films in the month of June as compared to May.\n",
    " \n",
    " **Hint**: For this part, you can create a join between the two dataframes created before, using the merge function available for pandas dataframes. Here is a link to the documentation for the [merge function](https://pandas.pydata.org/pandas-docs/stable/reference/api/pandas.DataFrame.merge.html)."
   ]
  },
  {
   "cell_type": "code",
   "execution_count": 64,
   "id": "9460b5fb",
   "metadata": {},
   "outputs": [],
   "source": [
    "query1 = '''\n",
    "         SELECT customer_id, count(rental_id) as number_of_rentals\n",
    "         from rentals_may \n",
    "         group by customer_id\n",
    "         '''"
   ]
  },
  {
   "cell_type": "code",
   "execution_count": 65,
   "id": "ec520b73",
   "metadata": {},
   "outputs": [],
   "source": [
    "query2 = '''\n",
    "         SELECT customer_id, count(rental_id) as number_of_rentals\n",
    "         from rentals_june\n",
    "         group by customer_id\n",
    "         '''"
   ]
  },
  {
   "cell_type": "code",
   "execution_count": 66,
   "id": "cf74839d",
   "metadata": {},
   "outputs": [
    {
     "data": {
      "text/html": [
       "<div>\n",
       "<style scoped>\n",
       "    .dataframe tbody tr th:only-of-type {\n",
       "        vertical-align: middle;\n",
       "    }\n",
       "\n",
       "    .dataframe tbody tr th {\n",
       "        vertical-align: top;\n",
       "    }\n",
       "\n",
       "    .dataframe thead th {\n",
       "        text-align: right;\n",
       "    }\n",
       "</style>\n",
       "<table border=\"1\" class=\"dataframe\">\n",
       "  <thead>\n",
       "    <tr style=\"text-align: right;\">\n",
       "      <th></th>\n",
       "      <th>customer_id</th>\n",
       "      <th>number_of_rentals</th>\n",
       "    </tr>\n",
       "  </thead>\n",
       "  <tbody>\n",
       "    <tr>\n",
       "      <th>0</th>\n",
       "      <td>1</td>\n",
       "      <td>2</td>\n",
       "    </tr>\n",
       "    <tr>\n",
       "      <th>1</th>\n",
       "      <td>2</td>\n",
       "      <td>1</td>\n",
       "    </tr>\n",
       "    <tr>\n",
       "      <th>2</th>\n",
       "      <td>3</td>\n",
       "      <td>2</td>\n",
       "    </tr>\n",
       "    <tr>\n",
       "      <th>3</th>\n",
       "      <td>5</td>\n",
       "      <td>3</td>\n",
       "    </tr>\n",
       "    <tr>\n",
       "      <th>4</th>\n",
       "      <td>6</td>\n",
       "      <td>3</td>\n",
       "    </tr>\n",
       "    <tr>\n",
       "      <th>...</th>\n",
       "      <td>...</td>\n",
       "      <td>...</td>\n",
       "    </tr>\n",
       "    <tr>\n",
       "      <th>515</th>\n",
       "      <td>594</td>\n",
       "      <td>4</td>\n",
       "    </tr>\n",
       "    <tr>\n",
       "      <th>516</th>\n",
       "      <td>595</td>\n",
       "      <td>1</td>\n",
       "    </tr>\n",
       "    <tr>\n",
       "      <th>517</th>\n",
       "      <td>596</td>\n",
       "      <td>6</td>\n",
       "    </tr>\n",
       "    <tr>\n",
       "      <th>518</th>\n",
       "      <td>597</td>\n",
       "      <td>2</td>\n",
       "    </tr>\n",
       "    <tr>\n",
       "      <th>519</th>\n",
       "      <td>599</td>\n",
       "      <td>1</td>\n",
       "    </tr>\n",
       "  </tbody>\n",
       "</table>\n",
       "<p>520 rows × 2 columns</p>\n",
       "</div>"
      ],
      "text/plain": [
       "     customer_id  number_of_rentals\n",
       "0              1                  2\n",
       "1              2                  1\n",
       "2              3                  2\n",
       "3              5                  3\n",
       "4              6                  3\n",
       "..           ...                ...\n",
       "515          594                  4\n",
       "516          595                  1\n",
       "517          596                  6\n",
       "518          597                  2\n",
       "519          599                  1\n",
       "\n",
       "[520 rows x 2 columns]"
      ]
     },
     "execution_count": 66,
     "metadata": {},
     "output_type": "execute_result"
    }
   ],
   "source": [
    "data_may2 = pd.read_sql_query(query1, engine)\n",
    "data_may2"
   ]
  },
  {
   "cell_type": "code",
   "execution_count": 67,
   "id": "9e32d6e4",
   "metadata": {},
   "outputs": [
    {
     "data": {
      "text/html": [
       "<div>\n",
       "<style scoped>\n",
       "    .dataframe tbody tr th:only-of-type {\n",
       "        vertical-align: middle;\n",
       "    }\n",
       "\n",
       "    .dataframe tbody tr th {\n",
       "        vertical-align: top;\n",
       "    }\n",
       "\n",
       "    .dataframe thead th {\n",
       "        text-align: right;\n",
       "    }\n",
       "</style>\n",
       "<table border=\"1\" class=\"dataframe\">\n",
       "  <thead>\n",
       "    <tr style=\"text-align: right;\">\n",
       "      <th></th>\n",
       "      <th>customer_id</th>\n",
       "      <th>number_of_rentals</th>\n",
       "    </tr>\n",
       "  </thead>\n",
       "  <tbody>\n",
       "    <tr>\n",
       "      <th>0</th>\n",
       "      <td>1</td>\n",
       "      <td>7</td>\n",
       "    </tr>\n",
       "    <tr>\n",
       "      <th>1</th>\n",
       "      <td>2</td>\n",
       "      <td>1</td>\n",
       "    </tr>\n",
       "    <tr>\n",
       "      <th>2</th>\n",
       "      <td>3</td>\n",
       "      <td>4</td>\n",
       "    </tr>\n",
       "    <tr>\n",
       "      <th>3</th>\n",
       "      <td>4</td>\n",
       "      <td>6</td>\n",
       "    </tr>\n",
       "    <tr>\n",
       "      <th>4</th>\n",
       "      <td>5</td>\n",
       "      <td>5</td>\n",
       "    </tr>\n",
       "    <tr>\n",
       "      <th>...</th>\n",
       "      <td>...</td>\n",
       "      <td>...</td>\n",
       "    </tr>\n",
       "    <tr>\n",
       "      <th>585</th>\n",
       "      <td>595</td>\n",
       "      <td>2</td>\n",
       "    </tr>\n",
       "    <tr>\n",
       "      <th>586</th>\n",
       "      <td>596</td>\n",
       "      <td>2</td>\n",
       "    </tr>\n",
       "    <tr>\n",
       "      <th>587</th>\n",
       "      <td>597</td>\n",
       "      <td>3</td>\n",
       "    </tr>\n",
       "    <tr>\n",
       "      <th>588</th>\n",
       "      <td>598</td>\n",
       "      <td>1</td>\n",
       "    </tr>\n",
       "    <tr>\n",
       "      <th>589</th>\n",
       "      <td>599</td>\n",
       "      <td>4</td>\n",
       "    </tr>\n",
       "  </tbody>\n",
       "</table>\n",
       "<p>590 rows × 2 columns</p>\n",
       "</div>"
      ],
      "text/plain": [
       "     customer_id  number_of_rentals\n",
       "0              1                  7\n",
       "1              2                  1\n",
       "2              3                  4\n",
       "3              4                  6\n",
       "4              5                  5\n",
       "..           ...                ...\n",
       "585          595                  2\n",
       "586          596                  2\n",
       "587          597                  3\n",
       "588          598                  1\n",
       "589          599                  4\n",
       "\n",
       "[590 rows x 2 columns]"
      ]
     },
     "execution_count": 67,
     "metadata": {},
     "output_type": "execute_result"
    }
   ],
   "source": [
    "data_june2 = pd.read_sql_query(query2, engine)\n",
    "data_june2"
   ]
  },
  {
   "cell_type": "code",
   "execution_count": 101,
   "id": "53adf1cf",
   "metadata": {},
   "outputs": [],
   "source": [
    "merged_data = pd.merge(data_may2, data_june2, how='outer', on='customer_id')"
   ]
  },
  {
   "cell_type": "code",
   "execution_count": 108,
   "id": "c401a13e",
   "metadata": {},
   "outputs": [
    {
     "data": {
      "text/html": [
       "<div>\n",
       "<style scoped>\n",
       "    .dataframe tbody tr th:only-of-type {\n",
       "        vertical-align: middle;\n",
       "    }\n",
       "\n",
       "    .dataframe tbody tr th {\n",
       "        vertical-align: top;\n",
       "    }\n",
       "\n",
       "    .dataframe thead th {\n",
       "        text-align: right;\n",
       "    }\n",
       "</style>\n",
       "<table border=\"1\" class=\"dataframe\">\n",
       "  <thead>\n",
       "    <tr style=\"text-align: right;\">\n",
       "      <th></th>\n",
       "      <th>customer_id</th>\n",
       "      <th>may</th>\n",
       "      <th>june</th>\n",
       "    </tr>\n",
       "  </thead>\n",
       "  <tbody>\n",
       "    <tr>\n",
       "      <th>0</th>\n",
       "      <td>1</td>\n",
       "      <td>2.0</td>\n",
       "      <td>7.0</td>\n",
       "    </tr>\n",
       "    <tr>\n",
       "      <th>1</th>\n",
       "      <td>2</td>\n",
       "      <td>1.0</td>\n",
       "      <td>1.0</td>\n",
       "    </tr>\n",
       "    <tr>\n",
       "      <th>2</th>\n",
       "      <td>3</td>\n",
       "      <td>2.0</td>\n",
       "      <td>4.0</td>\n",
       "    </tr>\n",
       "    <tr>\n",
       "      <th>3</th>\n",
       "      <td>5</td>\n",
       "      <td>3.0</td>\n",
       "      <td>5.0</td>\n",
       "    </tr>\n",
       "    <tr>\n",
       "      <th>4</th>\n",
       "      <td>6</td>\n",
       "      <td>3.0</td>\n",
       "      <td>4.0</td>\n",
       "    </tr>\n",
       "    <tr>\n",
       "      <th>...</th>\n",
       "      <td>...</td>\n",
       "      <td>...</td>\n",
       "      <td>...</td>\n",
       "    </tr>\n",
       "    <tr>\n",
       "      <th>593</th>\n",
       "      <td>583</td>\n",
       "      <td>0.0</td>\n",
       "      <td>6.0</td>\n",
       "    </tr>\n",
       "    <tr>\n",
       "      <th>594</th>\n",
       "      <td>585</td>\n",
       "      <td>0.0</td>\n",
       "      <td>4.0</td>\n",
       "    </tr>\n",
       "    <tr>\n",
       "      <th>595</th>\n",
       "      <td>591</td>\n",
       "      <td>0.0</td>\n",
       "      <td>3.0</td>\n",
       "    </tr>\n",
       "    <tr>\n",
       "      <th>596</th>\n",
       "      <td>592</td>\n",
       "      <td>0.0</td>\n",
       "      <td>5.0</td>\n",
       "    </tr>\n",
       "    <tr>\n",
       "      <th>597</th>\n",
       "      <td>598</td>\n",
       "      <td>0.0</td>\n",
       "      <td>1.0</td>\n",
       "    </tr>\n",
       "  </tbody>\n",
       "</table>\n",
       "<p>598 rows × 3 columns</p>\n",
       "</div>"
      ],
      "text/plain": [
       "     customer_id  may  june\n",
       "0              1  2.0   7.0\n",
       "1              2  1.0   1.0\n",
       "2              3  2.0   4.0\n",
       "3              5  3.0   5.0\n",
       "4              6  3.0   4.0\n",
       "..           ...  ...   ...\n",
       "593          583  0.0   6.0\n",
       "594          585  0.0   4.0\n",
       "595          591  0.0   3.0\n",
       "596          592  0.0   5.0\n",
       "597          598  0.0   1.0\n",
       "\n",
       "[598 rows x 3 columns]"
      ]
     },
     "execution_count": 108,
     "metadata": {},
     "output_type": "execute_result"
    }
   ],
   "source": [
    "merged_data.columns = ['customer_id','may','june']\n",
    "merged_data =  merged_data.fillna(0)\n",
    "merged_data"
   ]
  },
  {
   "cell_type": "code",
   "execution_count": 114,
   "id": "38d5a3ef",
   "metadata": {},
   "outputs": [],
   "source": [
    "def rental_checker(customer_id):\n",
    "    temp_data = merged_data[merged_data['customer_id'] == customer_id]\n",
    "    if len(temp_data) == 0:\n",
    "        return print('There were no rental in May nor June.')\n",
    "    elif sum(temp_data['may']) > sum(temp_data['june']):\n",
    "        return print('More rentals in May.')\n",
    "    elif sum(temp_data['may']) < sum(temp_data['june']):\n",
    "        return print('More rentals in June.')\n",
    "    elif sum(temp_data['may']) == sum(temp_data['june']):\n",
    "        return print('Rentals in May and June were same.')"
   ]
  },
  {
   "cell_type": "code",
   "execution_count": 116,
   "id": "a658bf8e",
   "metadata": {},
   "outputs": [
    {
     "name": "stdout",
     "output_type": "stream",
     "text": [
      "Rentals in May and June were same.\n"
     ]
    }
   ],
   "source": [
    "rental_checker(2)"
   ]
  },
  {
   "cell_type": "code",
   "execution_count": null,
   "id": "cc02fa7e",
   "metadata": {},
   "outputs": [],
   "source": [
    "# updated function by using Abhi's code"
   ]
  }
 ],
 "metadata": {
  "kernelspec": {
   "display_name": "Python 3",
   "language": "python",
   "name": "python3"
  },
  "language_info": {
   "codemirror_mode": {
    "name": "ipython",
    "version": 3
   },
   "file_extension": ".py",
   "mimetype": "text/x-python",
   "name": "python",
   "nbconvert_exporter": "python",
   "pygments_lexer": "ipython3",
   "version": "3.8.8"
  },
  "toc": {
   "base_numbering": 1,
   "nav_menu": {},
   "number_sections": true,
   "sideBar": true,
   "skip_h1_title": false,
   "title_cell": "Table of Contents",
   "title_sidebar": "Contents",
   "toc_cell": false,
   "toc_position": {},
   "toc_section_display": true,
   "toc_window_display": false
  }
 },
 "nbformat": 4,
 "nbformat_minor": 5
}
